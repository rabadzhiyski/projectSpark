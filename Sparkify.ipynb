{
 "cells": [
  {
   "cell_type": "markdown",
   "metadata": {},
   "source": [
    "# Sparkify Project Workspace\n",
    "This workspace contains a tiny subset (128MB) of the full dataset available (12GB). Feel free to use this workspace to build your project, or to explore a smaller subset with Spark before deploying your cluster on the cloud. Instructions for setting up your Spark cluster is included in the last lesson of the Extracurricular Spark Course content.\n",
    "\n",
    "You can follow the steps below to guide your data analysis and model building portion of this project."
   ]
  },
  {
   "cell_type": "code",
   "execution_count": 11,
   "metadata": {},
   "outputs": [
    {
     "data": {
      "text/html": [
       "        <script type=\"text/javascript\">\n",
       "        window.PlotlyConfig = {MathJaxConfig: 'local'};\n",
       "        if (window.MathJax) {MathJax.Hub.Config({SVG: {font: \"STIX-Web\"}});}\n",
       "        if (typeof require !== 'undefined') {\n",
       "        require.undef(\"plotly\");\n",
       "        requirejs.config({\n",
       "            paths: {\n",
       "                'plotly': ['https://cdn.plot.ly/plotly-latest.min']\n",
       "            }\n",
       "        });\n",
       "        require(['plotly'], function(Plotly) {\n",
       "            window._Plotly = Plotly;\n",
       "        });\n",
       "        }\n",
       "        </script>\n",
       "        "
      ]
     },
     "metadata": {},
     "output_type": "display_data"
    }
   ],
   "source": [
    "# import libraries\n",
    "import seaborn as sns\n",
    "import pandas as pd\n",
    "import numpy as np\n",
    "import matplotlib.pyplot as plt\n",
    "plt.style.use('ggplot')\n",
    "%matplotlib inline\n",
    "from plotly.offline import iplot\n",
    "import plotly.graph_objects as go\n",
    "import warnings\n",
    "warnings.filterwarnings(\"ignore\")\n",
    "import cufflinks as cf\n",
    "cf.go_offline()\n",
    "from pyspark.ml.feature import RegexTokenizer, VectorAssembler, Normalizer, StandardScaler\n",
    "from pyspark.sql.functions import isnan, count, when, col, desc, udf, col, sort_array, asc, avg\n",
    "from pyspark.sql.functions import udf\n",
    "from pyspark.sql.types import IntegerType\n",
    "from pyspark.sql.functions import sum as Fsum\n",
    "from pyspark.sql.window import Window\n",
    "from pyspark.sql.types import IntegerType\n",
    "from pyspark.context import SparkContext\n",
    "from pyspark.sql.session import SparkSession"
   ]
  },
  {
   "cell_type": "code",
   "execution_count": 2,
   "metadata": {},
   "outputs": [
    {
     "name": "stdout",
     "output_type": "stream",
     "text": [
      "613 µs ± 90.3 µs per loop (mean ± std. dev. of 7 runs, 1 loop each)\n"
     ]
    }
   ],
   "source": [
    "%%timeit\n",
    "# create a Spark session\n",
    "spark = SparkSession \\\n",
    "    .builder \\\n",
    "    .appName(\"Big Data with Spark\") \\\n",
    "    .getOrCreate()\n",
    "\n",
    "# to check spark WebUI: http://localhost:4040/jobs/ or call directly 'spark' to get a link"
   ]
  },
  {
   "cell_type": "code",
   "execution_count": 12,
   "metadata": {},
   "outputs": [],
   "source": [
    "# create a Spark session\n",
    "sc = SparkContext.getOrCreate()\n",
    "spark = SparkSession(sc)"
   ]
  },
  {
   "cell_type": "code",
   "execution_count": 13,
   "metadata": {},
   "outputs": [
    {
     "data": {
      "text/html": [
       "\n",
       "            <div>\n",
       "                <p><b>SparkSession - in-memory</b></p>\n",
       "                \n",
       "        <div>\n",
       "            <p><b>SparkContext</b></p>\n",
       "\n",
       "            <p><a href=\"http://192.168.1.97:4040\">Spark UI</a></p>\n",
       "\n",
       "            <dl>\n",
       "              <dt>Version</dt>\n",
       "                <dd><code>v2.4.0</code></dd>\n",
       "              <dt>Master</dt>\n",
       "                <dd><code>local[*]</code></dd>\n",
       "              <dt>AppName</dt>\n",
       "                <dd><code>Big Data with Spark</code></dd>\n",
       "            </dl>\n",
       "        </div>\n",
       "        \n",
       "            </div>\n",
       "        "
      ],
      "text/plain": [
       "<pyspark.sql.session.SparkSession at 0x7f0ade7cfd10>"
      ]
     },
     "execution_count": 13,
     "metadata": {},
     "output_type": "execute_result"
    }
   ],
   "source": [
    "# check spark session details\n",
    "spark"
   ]
  },
  {
   "cell_type": "markdown",
   "metadata": {},
   "source": [
    "# Load and Clean Dataset\n",
    "In this workspace, the mini-dataset file is `mini_sparkify_event_data.json`. Load and clean the dataset, checking for invalid or missing data - for example, records without userids or sessionids. "
   ]
  },
  {
   "cell_type": "code",
   "execution_count": 14,
   "metadata": {
    "scrolled": true
   },
   "outputs": [
    {
     "data": {
      "text/plain": [
       "'/home/freemo/Projects/projectSpark'"
      ]
     },
     "execution_count": 14,
     "metadata": {},
     "output_type": "execute_result"
    }
   ],
   "source": [
    "pwd"
   ]
  },
  {
   "cell_type": "code",
   "execution_count": 15,
   "metadata": {},
   "outputs": [],
   "source": [
    "mini = '/home/freemo/Projects/largeData/mini_sparkify_event_data.json'\n",
    "medium = '/home/freemo/Projects/largeData/medium_sparkify_event_data.json'"
   ]
  },
  {
   "cell_type": "code",
   "execution_count": 17,
   "metadata": {},
   "outputs": [],
   "source": [
    "df = spark.read.json(medium)"
   ]
  },
  {
   "cell_type": "markdown",
   "metadata": {},
   "source": [
    "## Exploratory Data Analyses with Spark"
   ]
  },
  {
   "cell_type": "code",
   "execution_count": 18,
   "metadata": {},
   "outputs": [
    {
     "data": {
      "text/plain": [
       "[Row(artist='Martin Orford', auth='Logged In', firstName='Joseph', gender='M', itemInSession=20, lastName='Morales', length=597.55057, level='free', location='Corpus Christi, TX', method='PUT', page='NextSong', registration=1532063507000, sessionId=292, song='Grand Designs', status=200, ts=1538352011000, userAgent='\"Mozilla/5.0 (Macintosh; Intel Mac OS X 10_9_4) AppleWebKit/537.36 (KHTML, like Gecko) Chrome/36.0.1985.125 Safari/537.36\"', userId='293')]"
      ]
     },
     "execution_count": 18,
     "metadata": {},
     "output_type": "execute_result"
    }
   ],
   "source": [
    "# check first row\n",
    "df.take(1)"
   ]
  },
  {
   "cell_type": "code",
   "execution_count": 19,
   "metadata": {
    "scrolled": false
   },
   "outputs": [
    {
     "name": "stdout",
     "output_type": "stream",
     "text": [
      "+-----------------+---------+---------+------+-------------+--------+---------+-----+--------------------+------+--------+-------------+---------+------------------+------+-------------+--------------------+------+\n",
      "|           artist|     auth|firstName|gender|itemInSession|lastName|   length|level|            location|method|    page| registration|sessionId|              song|status|           ts|           userAgent|userId|\n",
      "+-----------------+---------+---------+------+-------------+--------+---------+-----+--------------------+------+--------+-------------+---------+------------------+------+-------------+--------------------+------+\n",
      "|    Martin Orford|Logged In|   Joseph|     M|           20| Morales|597.55057| free|  Corpus Christi, TX|   PUT|NextSong|1532063507000|      292|     Grand Designs|   200|1538352011000|\"Mozilla/5.0 (Mac...|   293|\n",
      "|John Brown's Body|Logged In|   Sawyer|     M|           74|  Larson|380.21179| free|Houston-The Woodl...|   PUT|NextSong|1538069638000|       97|             Bulls|   200|1538352025000|\"Mozilla/5.0 (Mac...|    98|\n",
      "|          Afroman|Logged In| Maverick|     M|          184|Santiago|202.37016| paid|Orlando-Kissimmee...|   PUT|NextSong|1535953455000|      178|Because I Got High|   200|1538352118000|\"Mozilla/5.0 (Mac...|   179|\n",
      "|             null|Logged In| Maverick|     M|          185|Santiago|     null| paid|Orlando-Kissimmee...|   PUT|  Logout|1535953455000|      178|              null|   307|1538352119000|\"Mozilla/5.0 (Mac...|   179|\n",
      "|       Lily Allen|Logged In|   Gianna|     F|           22|  Campos|194.53342| paid|          Mobile, AL|   PUT|NextSong|1535931018000|      245|Smile (Radio Edit)|   200|1538352124000|Mozilla/5.0 (Wind...|   246|\n",
      "+-----------------+---------+---------+------+-------------+--------+---------+-----+--------------------+------+--------+-------------+---------+------------------+------+-------------+--------------------+------+\n",
      "only showing top 5 rows\n",
      "\n"
     ]
    }
   ],
   "source": [
    "# check header \n",
    "df.show(5)"
   ]
  },
  {
   "cell_type": "code",
   "execution_count": 20,
   "metadata": {},
   "outputs": [],
   "source": [
    "# enable eager evaluation for Jupyter notebooks\n",
    "spark.conf.set('spark.sql.repl.eagerEval.enabled', True)"
   ]
  },
  {
   "cell_type": "code",
   "execution_count": 25,
   "metadata": {},
   "outputs": [
    {
     "data": {
      "text/html": [
       "<table border='1'>\n",
       "<tr><th>artist</th><th>auth</th><th>firstName</th><th>gender</th><th>itemInSession</th><th>lastName</th><th>length</th><th>level</th><th>location</th><th>method</th><th>page</th><th>registration</th><th>sessionId</th><th>song</th><th>status</th><th>ts</th><th>userAgent</th><th>userId</th></tr>\n",
       "<tr><td>Martin Orford</td><td>Logged In</td><td>Joseph</td><td>M</td><td>20</td><td>Morales</td><td>597.55057</td><td>free</td><td>Corpus Christi, TX</td><td>PUT</td><td>NextSong</td><td>1532063507000</td><td>292</td><td>Grand Designs</td><td>200</td><td>1538352011000</td><td>\"Mozilla/5.0 (Mac...</td><td>293</td></tr>\n",
       "<tr><td>John Brown's Body</td><td>Logged In</td><td>Sawyer</td><td>M</td><td>74</td><td>Larson</td><td>380.21179</td><td>free</td><td>Houston-The Woodl...</td><td>PUT</td><td>NextSong</td><td>1538069638000</td><td>97</td><td>Bulls</td><td>200</td><td>1538352025000</td><td>\"Mozilla/5.0 (Mac...</td><td>98</td></tr>\n",
       "<tr><td>Afroman</td><td>Logged In</td><td>Maverick</td><td>M</td><td>184</td><td>Santiago</td><td>202.37016</td><td>paid</td><td>Orlando-Kissimmee...</td><td>PUT</td><td>NextSong</td><td>1535953455000</td><td>178</td><td>Because I Got High</td><td>200</td><td>1538352118000</td><td>\"Mozilla/5.0 (Mac...</td><td>179</td></tr>\n",
       "<tr><td>null</td><td>Logged In</td><td>Maverick</td><td>M</td><td>185</td><td>Santiago</td><td>null</td><td>paid</td><td>Orlando-Kissimmee...</td><td>PUT</td><td>Logout</td><td>1535953455000</td><td>178</td><td>null</td><td>307</td><td>1538352119000</td><td>\"Mozilla/5.0 (Mac...</td><td>179</td></tr>\n",
       "<tr><td>Lily Allen</td><td>Logged In</td><td>Gianna</td><td>F</td><td>22</td><td>Campos</td><td>194.53342</td><td>paid</td><td>Mobile, AL</td><td>PUT</td><td>NextSong</td><td>1535931018000</td><td>245</td><td>Smile (Radio Edit)</td><td>200</td><td>1538352124000</td><td>Mozilla/5.0 (Wind...</td><td>246</td></tr>\n",
       "<tr><td>Carter USM</td><td>Logged In</td><td>Sofia</td><td>F</td><td>266</td><td>Gordon</td><td>138.29179</td><td>paid</td><td>Rochester, MN</td><td>PUT</td><td>NextSong</td><td>1533175710000</td><td>162</td><td>Airplane Food</td><td>200</td><td>1538352125000</td><td>\"Mozilla/5.0 (Mac...</td><td>163</td></tr>\n",
       "<tr><td>null</td><td>Logged Out</td><td>null</td><td>null</td><td>186</td><td>null</td><td>null</td><td>paid</td><td>null</td><td>GET</td><td>Home</td><td>null</td><td>178</td><td>null</td><td>200</td><td>1538352148000</td><td>null</td><td></td></tr>\n",
       "<tr><td>null</td><td>Logged Out</td><td>null</td><td>null</td><td>187</td><td>null</td><td>null</td><td>paid</td><td>null</td><td>GET</td><td>Home</td><td>null</td><td>178</td><td>null</td><td>200</td><td>1538352151000</td><td>null</td><td></td></tr>\n",
       "<tr><td>null</td><td>Logged Out</td><td>null</td><td>null</td><td>188</td><td>null</td><td>null</td><td>paid</td><td>null</td><td>GET</td><td>Home</td><td>null</td><td>178</td><td>null</td><td>200</td><td>1538352168000</td><td>null</td><td></td></tr>\n",
       "<tr><td>null</td><td>Logged Out</td><td>null</td><td>null</td><td>189</td><td>null</td><td>null</td><td>paid</td><td>null</td><td>PUT</td><td>Login</td><td>null</td><td>178</td><td>null</td><td>307</td><td>1538352169000</td><td>null</td><td></td></tr>\n",
       "<tr><td>null</td><td>Logged In</td><td>Maverick</td><td>M</td><td>190</td><td>Santiago</td><td>null</td><td>paid</td><td>Orlando-Kissimmee...</td><td>GET</td><td>Home</td><td>1535953455000</td><td>178</td><td>null</td><td>200</td><td>1538352176000</td><td>\"Mozilla/5.0 (Mac...</td><td>179</td></tr>\n",
       "<tr><td>Aerosmith</td><td>Logged In</td><td>Lacey</td><td>F</td><td>107</td><td>Castaneda</td><td>220.39465</td><td>free</td><td>El Campo, TX</td><td>PUT</td><td>NextSong</td><td>1537536032000</td><td>442</td><td>Walk This Way</td><td>200</td><td>1538352215000</td><td>\"Mozilla/5.0 (Mac...</td><td>175</td></tr>\n",
       "<tr><td>null</td><td>Logged In</td><td>Colin</td><td>M</td><td>0</td><td>Larson</td><td>null</td><td>free</td><td>Dallas-Fort Worth...</td><td>GET</td><td>Home</td><td>1537982255000</td><td>497</td><td>null</td><td>200</td><td>1538352241000</td><td>Mozilla/5.0 (Wind...</td><td>100</td></tr>\n",
       "<tr><td>Amy Winehouse</td><td>Logged In</td><td>Colin</td><td>M</td><td>1</td><td>Larson</td><td>201.50812</td><td>free</td><td>Dallas-Fort Worth...</td><td>PUT</td><td>NextSong</td><td>1537982255000</td><td>497</td><td>Teach Me Tonight</td><td>200</td><td>1538352259000</td><td>Mozilla/5.0 (Wind...</td><td>100</td></tr>\n",
       "<tr><td>Drake / Kanye Wes...</td><td>Logged In</td><td>Sofia</td><td>F</td><td>267</td><td>Gordon</td><td>357.66812</td><td>paid</td><td>Rochester, MN</td><td>PUT</td><td>NextSong</td><td>1533175710000</td><td>162</td><td>Forever</td><td>200</td><td>1538352263000</td><td>\"Mozilla/5.0 (Mac...</td><td>163</td></tr>\n",
       "<tr><td>Bob Dylan</td><td>Logged In</td><td>Gianna</td><td>F</td><td>23</td><td>Campos</td><td>256.96608</td><td>paid</td><td>Mobile, AL</td><td>PUT</td><td>NextSong</td><td>1535931018000</td><td>245</td><td>Simple Twist Of Fate</td><td>200</td><td>1538352318000</td><td>Mozilla/5.0 (Wind...</td><td>246</td></tr>\n",
       "<tr><td>The Bar-Kays</td><td>Logged In</td><td>Maverick</td><td>M</td><td>191</td><td>Santiago</td><td>164.23138</td><td>paid</td><td>Orlando-Kissimmee...</td><td>PUT</td><td>NextSong</td><td>1535953455000</td><td>178</td><td>Montego Bay</td><td>200</td><td>1538352320000</td><td>\"Mozilla/5.0 (Mac...</td><td>179</td></tr>\n",
       "<tr><td>Black Kids</td><td>Logged In</td><td>Payton</td><td>F</td><td>83</td><td>Campbell</td><td>251.48036</td><td>free</td><td>Los Angeles-Long ...</td><td>PUT</td><td>NextSong</td><td>1529027541000</td><td>38</td><td>Look At Me (When ...</td><td>200</td><td>1538352323000</td><td>\"Mozilla/5.0 (Win...</td><td>39</td></tr>\n",
       "<tr><td>null</td><td>Logged In</td><td>Sofia</td><td>F</td><td>268</td><td>Gordon</td><td>null</td><td>paid</td><td>Rochester, MN</td><td>GET</td><td>Downgrade</td><td>1533175710000</td><td>162</td><td>null</td><td>200</td><td>1538352336000</td><td>\"Mozilla/5.0 (Mac...</td><td>163</td></tr>\n",
       "<tr><td>null</td><td>Logged In</td><td>Maverick</td><td>M</td><td>192</td><td>Santiago</td><td>null</td><td>paid</td><td>Orlando-Kissimmee...</td><td>PUT</td><td>Add to Playlist</td><td>1535953455000</td><td>178</td><td>null</td><td>200</td><td>1538352376000</td><td>\"Mozilla/5.0 (Mac...</td><td>179</td></tr>\n",
       "</table>\n",
       "only showing top 20 rows\n"
      ],
      "text/plain": [
       "DataFrame[artist: string, auth: string, firstName: string, gender: string, itemInSession: bigint, lastName: string, length: double, level: string, location: string, method: string, page: string, registration: bigint, sessionId: bigint, song: string, status: bigint, ts: bigint, userAgent: string, userId: string]"
      ]
     },
     "execution_count": 25,
     "metadata": {},
     "output_type": "execute_result"
    }
   ],
   "source": [
    "df"
   ]
  },
  {
   "cell_type": "code",
   "execution_count": 26,
   "metadata": {
    "scrolled": true
   },
   "outputs": [
    {
     "name": "stdout",
     "output_type": "stream",
     "text": [
      "-RECORD 0-----------------------------\n",
      " artist        | Martin Orford        \n",
      " auth          | Logged In            \n",
      " firstName     | Joseph               \n",
      " gender        | M                    \n",
      " itemInSession | 20                   \n",
      " lastName      | Morales              \n",
      " length        | 597.55057            \n",
      " level         | free                 \n",
      " location      | Corpus Christi, TX   \n",
      " method        | PUT                  \n",
      " page          | NextSong             \n",
      " registration  | 1532063507000        \n",
      " sessionId     | 292                  \n",
      " song          | Grand Designs        \n",
      " status        | 200                  \n",
      " ts            | 1538352011000        \n",
      " userAgent     | \"Mozilla/5.0 (Mac... \n",
      " userId        | 293                  \n",
      "only showing top 1 row\n",
      "\n"
     ]
    }
   ],
   "source": [
    "# display info with spark\n",
    "df.show(1, vertical=True)"
   ]
  },
  {
   "cell_type": "code",
   "execution_count": 27,
   "metadata": {
    "scrolled": true
   },
   "outputs": [
    {
     "name": "stdout",
     "output_type": "stream",
     "text": [
      "root\n",
      " |-- artist: string (nullable = true)\n",
      " |-- auth: string (nullable = true)\n",
      " |-- firstName: string (nullable = true)\n",
      " |-- gender: string (nullable = true)\n",
      " |-- itemInSession: long (nullable = true)\n",
      " |-- lastName: string (nullable = true)\n",
      " |-- length: double (nullable = true)\n",
      " |-- level: string (nullable = true)\n",
      " |-- location: string (nullable = true)\n",
      " |-- method: string (nullable = true)\n",
      " |-- page: string (nullable = true)\n",
      " |-- registration: long (nullable = true)\n",
      " |-- sessionId: long (nullable = true)\n",
      " |-- song: string (nullable = true)\n",
      " |-- status: long (nullable = true)\n",
      " |-- ts: long (nullable = true)\n",
      " |-- userAgent: string (nullable = true)\n",
      " |-- userId: string (nullable = true)\n",
      "\n"
     ]
    }
   ],
   "source": [
    "# check info\n",
    "df.printSchema()"
   ]
  },
  {
   "cell_type": "code",
   "execution_count": 28,
   "metadata": {
    "scrolled": true
   },
   "outputs": [
    {
     "name": "stdout",
     "output_type": "stream",
     "text": [
      "+------+----+---------+------+-------------+--------+------+-----+--------+------+----+------------+---------+------+------+---+---------+------+\n",
      "|artist|auth|firstName|gender|itemInSession|lastName|length|level|location|method|page|registration|sessionId|  song|status| ts|userAgent|userId|\n",
      "+------+----+---------+------+-------------+--------+------+-----+--------+------+----+------------+---------+------+------+---+---------+------+\n",
      "|110828|   0|    15700| 15700|            0|   15700|110828|    0|   15700|     0|   0|       15700|        0|110828|     0|  0|    15700|     0|\n",
      "+------+----+---------+------+-------------+--------+------+-----+--------+------+----+------------+---------+------+------+---+---------+------+\n",
      "\n"
     ]
    }
   ],
   "source": [
    "# check columns with missing data\n",
    "df.select([count(when(col(c).isNull(), c)).alias(c) for c in df.columns]).show()"
   ]
  },
  {
   "cell_type": "code",
   "execution_count": 29,
   "metadata": {
    "scrolled": true
   },
   "outputs": [
    {
     "name": "stdout",
     "output_type": "stream",
     "text": [
      "+------+----+---------+------+-------------+--------+------+-----+--------+------+----+------------+---------+------+------+---+---------+------+\n",
      "|artist|auth|firstName|gender|itemInSession|lastName|length|level|location|method|page|registration|sessionId|  song|status| ts|userAgent|userId|\n",
      "+------+----+---------+------+-------------+--------+------+-----+--------+------+----+------------+---------+------+------+---+---------+------+\n",
      "|110828|   0|    15700| 15700|            0|   15700|110828|    0|   15700|     0|   0|       15700|        0|110828|     0|  0|    15700|     0|\n",
      "+------+----+---------+------+-------------+--------+------+-----+--------+------+----+------------+---------+------+------+---+---------+------+\n",
      "\n"
     ]
    }
   ],
   "source": [
    "# check columns with Null values\n",
    "df.select([count(when(isnan(c) | col(c).isNull(), c)).alias(c) for c in df.columns]).show()"
   ]
  },
  {
   "cell_type": "code",
   "execution_count": 30,
   "metadata": {
    "scrolled": true
   },
   "outputs": [
    {
     "name": "stdout",
     "output_type": "stream",
     "text": [
      "+--------------------------------------------+\n",
      "|count(CASE WHEN isnan(userID) THEN true END)|\n",
      "+--------------------------------------------+\n",
      "|                                           0|\n",
      "+--------------------------------------------+\n",
      "\n"
     ]
    }
   ],
   "source": [
    "# missing values in userID\n",
    "df.select([count(when(isnan('userID'),True))]).show()"
   ]
  },
  {
   "cell_type": "code",
   "execution_count": 31,
   "metadata": {
    "scrolled": true
   },
   "outputs": [
    {
     "name": "stdout",
     "output_type": "stream",
     "text": [
      "+-----------------------------------------------+\n",
      "|count(CASE WHEN isnan(sessionID) THEN true END)|\n",
      "+-----------------------------------------------+\n",
      "|                                              0|\n",
      "+-----------------------------------------------+\n",
      "\n"
     ]
    }
   ],
   "source": [
    "# missing values in sessionID\n",
    "df.select([count(when(isnan('sessionID'),True))]).show()"
   ]
  },
  {
   "cell_type": "code",
   "execution_count": 32,
   "metadata": {
    "scrolled": true
   },
   "outputs": [
    {
     "name": "stdout",
     "output_type": "stream",
     "text": [
      "+------------------------------------------------------------------+\n",
      "|count(CASE WHEN (isnan(userID) OR (userID IS NULL)) THEN true END)|\n",
      "+------------------------------------------------------------------+\n",
      "|                                                                 0|\n",
      "+------------------------------------------------------------------+\n",
      "\n"
     ]
    }
   ],
   "source": [
    "# checking missing and null values at the same time\n",
    "df.select([count(when(isnan('userID') | col('userID').isNull() , True))]).show()"
   ]
  },
  {
   "cell_type": "code",
   "execution_count": 33,
   "metadata": {
    "scrolled": false
   },
   "outputs": [
    {
     "name": "stdout",
     "output_type": "stream",
     "text": [
      "+------------------------------------------------------------------------+\n",
      "|count(CASE WHEN (isnan(sessionID) OR (sessionID IS NULL)) THEN true END)|\n",
      "+------------------------------------------------------------------------+\n",
      "|                                                                       0|\n",
      "+------------------------------------------------------------------------+\n",
      "\n"
     ]
    }
   ],
   "source": [
    "# checking missing and null values at the same time\n",
    "df.select([count(when(isnan('sessionID') | col('sessionID').isNull() , True))]).show()"
   ]
  },
  {
   "cell_type": "code",
   "execution_count": 56,
   "metadata": {},
   "outputs": [],
   "source": [
    "# convert to pandas DataFrame for a better EDA\n",
    "dfp = df.toPandas()"
   ]
  },
  {
   "cell_type": "markdown",
   "metadata": {},
   "source": [
    "# Exploratory Data Analysis\n",
    "When you're working with the full dataset, perform EDA by loading a small subset of the data and doing basic manipulations within Spark. In this workspace, you are already provided a small subset of data you can explore.\n",
    "\n",
    "### Define Churn\n",
    "\n",
    "Once you've done some preliminary analysis, create a column `Churn` to use as the label for your model. I suggest using the `Cancellation Confirmation` events to define your churn, which happen for both paid and free users. As a bonus task, you can also look into the `Downgrade` events.\n",
    "\n",
    "### Explore Data\n",
    "Once you've defined churn, perform some exploratory data analysis to observe the behavior for users who stayed vs users who churned. You can start by exploring aggregates on these two groups of users, observing how much of a specific action they experienced per a certain time unit or number of songs played."
   ]
  },
  {
   "cell_type": "code",
   "execution_count": 35,
   "metadata": {},
   "outputs": [
    {
     "data": {
      "text/plain": [
       "(543705, 18)"
      ]
     },
     "execution_count": 35,
     "metadata": {},
     "output_type": "execute_result"
    }
   ],
   "source": [
    "dfp.shape"
   ]
  },
  {
   "cell_type": "code",
   "execution_count": 36,
   "metadata": {
    "scrolled": true
   },
   "outputs": [
    {
     "name": "stdout",
     "output_type": "stream",
     "text": [
      "<class 'pandas.core.frame.DataFrame'>\n",
      "RangeIndex: 543705 entries, 0 to 543704\n",
      "Data columns (total 18 columns):\n",
      " #   Column         Non-Null Count   Dtype  \n",
      "---  ------         --------------   -----  \n",
      " 0   artist         432877 non-null  object \n",
      " 1   auth           543705 non-null  object \n",
      " 2   firstName      528005 non-null  object \n",
      " 3   gender         528005 non-null  object \n",
      " 4   itemInSession  543705 non-null  int64  \n",
      " 5   lastName       528005 non-null  object \n",
      " 6   length         432877 non-null  float64\n",
      " 7   level          543705 non-null  object \n",
      " 8   location       528005 non-null  object \n",
      " 9   method         543705 non-null  object \n",
      " 10  page           543705 non-null  object \n",
      " 11  registration   528005 non-null  float64\n",
      " 12  sessionId      543705 non-null  int64  \n",
      " 13  song           432877 non-null  object \n",
      " 14  status         543705 non-null  int64  \n",
      " 15  ts             543705 non-null  int64  \n",
      " 16  userAgent      528005 non-null  object \n",
      " 17  userId         543705 non-null  object \n",
      "dtypes: float64(2), int64(4), object(12)\n",
      "memory usage: 74.7+ MB\n"
     ]
    }
   ],
   "source": [
    "dfp.info()"
   ]
  },
  {
   "cell_type": "code",
   "execution_count": 37,
   "metadata": {
    "scrolled": true
   },
   "outputs": [
    {
     "data": {
      "text/plain": [
       "array([['Martin Orford', 'Logged In', 'Joseph', ..., 1538352011000,\n",
       "        '\"Mozilla/5.0 (Macintosh; Intel Mac OS X 10_9_4) AppleWebKit/537.36 (KHTML, like Gecko) Chrome/36.0.1985.125 Safari/537.36\"',\n",
       "        '293'],\n",
       "       [\"John Brown's Body\", 'Logged In', 'Sawyer', ..., 1538352025000,\n",
       "        '\"Mozilla/5.0 (Macintosh; Intel Mac OS X 10_9_4) AppleWebKit/537.36 (KHTML, like Gecko) Chrome/36.0.1985.143 Safari/537.36\"',\n",
       "        '98'],\n",
       "       ['Afroman', 'Logged In', 'Maverick', ..., 1538352118000,\n",
       "        '\"Mozilla/5.0 (Macintosh; Intel Mac OS X 10_9_4) AppleWebKit/537.36 (KHTML, like Gecko) Chrome/36.0.1985.143 Safari/537.36\"',\n",
       "        '179'],\n",
       "       ...,\n",
       "       ['The White Stripes', 'Logged In', 'Jeremiah', ..., 1543622368000,\n",
       "        '\"Mozilla/5.0 (Macintosh; Intel Mac OS X 10_9_4) AppleWebKit/537.36 (KHTML, like Gecko) Chrome/36.0.1985.143 Safari/537.36\"',\n",
       "        '300039'],\n",
       "       ['Hinder', 'Logged In', 'Aiden', ..., 1543622392000,\n",
       "        '\"Mozilla/5.0 (iPhone; CPU iPhone OS 7_1_2 like Mac OS X) AppleWebKit/537.51.2 (KHTML, like Gecko) Version/7.0 Mobile/11D257 Safari/9537.53\"',\n",
       "        '300038'],\n",
       "       ['Jack Johnson', 'Logged In', 'Joshua', ..., 1543622401000,\n",
       "        '\"Mozilla/5.0 (iPhone; CPU iPhone OS 7_1_2 like Mac OS X) AppleWebKit/537.51.2 (KHTML, like Gecko) Version/7.0 Mobile/11D257 Safari/9537.53\"',\n",
       "        '300015']], dtype=object)"
      ]
     },
     "execution_count": 37,
     "metadata": {},
     "output_type": "execute_result"
    }
   ],
   "source": [
    "dfp.values"
   ]
  },
  {
   "cell_type": "code",
   "execution_count": 38,
   "metadata": {
    "scrolled": true
   },
   "outputs": [
    {
     "data": {
      "text/plain": [
       "Index(['artist', 'auth', 'firstName', 'gender', 'itemInSession', 'lastName',\n",
       "       'length', 'level', 'location', 'method', 'page', 'registration',\n",
       "       'sessionId', 'song', 'status', 'ts', 'userAgent', 'userId'],\n",
       "      dtype='object')"
      ]
     },
     "execution_count": 38,
     "metadata": {},
     "output_type": "execute_result"
    }
   ],
   "source": [
    "dfp.columns"
   ]
  },
  {
   "cell_type": "code",
   "execution_count": 39,
   "metadata": {},
   "outputs": [
    {
     "data": {
      "text/plain": [
       "RangeIndex(start=0, stop=543705, step=1)"
      ]
     },
     "execution_count": 39,
     "metadata": {},
     "output_type": "execute_result"
    }
   ],
   "source": [
    "dfp.index"
   ]
  },
  {
   "cell_type": "code",
   "execution_count": 48,
   "metadata": {
    "scrolled": true
   },
   "outputs": [
    {
     "data": {
      "text/html": [
       "<div>\n",
       "<style scoped>\n",
       "    .dataframe tbody tr th:only-of-type {\n",
       "        vertical-align: middle;\n",
       "    }\n",
       "\n",
       "    .dataframe tbody tr th {\n",
       "        vertical-align: top;\n",
       "    }\n",
       "\n",
       "    .dataframe thead th {\n",
       "        text-align: right;\n",
       "    }\n",
       "</style>\n",
       "<table border=\"1\" class=\"dataframe\">\n",
       "  <thead>\n",
       "    <tr style=\"text-align: right;\">\n",
       "      <th></th>\n",
       "      <th>artist</th>\n",
       "      <th>auth</th>\n",
       "      <th>firstName</th>\n",
       "      <th>gender</th>\n",
       "      <th>itemInSession</th>\n",
       "      <th>lastName</th>\n",
       "      <th>length</th>\n",
       "      <th>level</th>\n",
       "      <th>location</th>\n",
       "      <th>method</th>\n",
       "      <th>page</th>\n",
       "      <th>registration</th>\n",
       "      <th>sessionId</th>\n",
       "      <th>song</th>\n",
       "      <th>status</th>\n",
       "      <th>ts</th>\n",
       "      <th>userAgent</th>\n",
       "      <th>userId</th>\n",
       "    </tr>\n",
       "  </thead>\n",
       "  <tbody>\n",
       "    <tr>\n",
       "      <th>0</th>\n",
       "      <td>Martin Orford</td>\n",
       "      <td>Logged In</td>\n",
       "      <td>Joseph</td>\n",
       "      <td>M</td>\n",
       "      <td>20</td>\n",
       "      <td>Morales</td>\n",
       "      <td>597.55057</td>\n",
       "      <td>free</td>\n",
       "      <td>Corpus Christi, TX</td>\n",
       "      <td>PUT</td>\n",
       "      <td>NextSong</td>\n",
       "      <td>1.532064e+12</td>\n",
       "      <td>292</td>\n",
       "      <td>Grand Designs</td>\n",
       "      <td>200</td>\n",
       "      <td>1538352011000</td>\n",
       "      <td>\"Mozilla/5.0 (Macintosh; Intel Mac OS X 10_9_4...</td>\n",
       "      <td>293</td>\n",
       "    </tr>\n",
       "    <tr>\n",
       "      <th>1</th>\n",
       "      <td>John Brown's Body</td>\n",
       "      <td>Logged In</td>\n",
       "      <td>Sawyer</td>\n",
       "      <td>M</td>\n",
       "      <td>74</td>\n",
       "      <td>Larson</td>\n",
       "      <td>380.21179</td>\n",
       "      <td>free</td>\n",
       "      <td>Houston-The Woodlands-Sugar Land, TX</td>\n",
       "      <td>PUT</td>\n",
       "      <td>NextSong</td>\n",
       "      <td>1.538070e+12</td>\n",
       "      <td>97</td>\n",
       "      <td>Bulls</td>\n",
       "      <td>200</td>\n",
       "      <td>1538352025000</td>\n",
       "      <td>\"Mozilla/5.0 (Macintosh; Intel Mac OS X 10_9_4...</td>\n",
       "      <td>98</td>\n",
       "    </tr>\n",
       "    <tr>\n",
       "      <th>2</th>\n",
       "      <td>Afroman</td>\n",
       "      <td>Logged In</td>\n",
       "      <td>Maverick</td>\n",
       "      <td>M</td>\n",
       "      <td>184</td>\n",
       "      <td>Santiago</td>\n",
       "      <td>202.37016</td>\n",
       "      <td>paid</td>\n",
       "      <td>Orlando-Kissimmee-Sanford, FL</td>\n",
       "      <td>PUT</td>\n",
       "      <td>NextSong</td>\n",
       "      <td>1.535953e+12</td>\n",
       "      <td>178</td>\n",
       "      <td>Because I Got High</td>\n",
       "      <td>200</td>\n",
       "      <td>1538352118000</td>\n",
       "      <td>\"Mozilla/5.0 (Macintosh; Intel Mac OS X 10_9_4...</td>\n",
       "      <td>179</td>\n",
       "    </tr>\n",
       "    <tr>\n",
       "      <th>3</th>\n",
       "      <td>None</td>\n",
       "      <td>Logged In</td>\n",
       "      <td>Maverick</td>\n",
       "      <td>M</td>\n",
       "      <td>185</td>\n",
       "      <td>Santiago</td>\n",
       "      <td>NaN</td>\n",
       "      <td>paid</td>\n",
       "      <td>Orlando-Kissimmee-Sanford, FL</td>\n",
       "      <td>PUT</td>\n",
       "      <td>Logout</td>\n",
       "      <td>1.535953e+12</td>\n",
       "      <td>178</td>\n",
       "      <td>None</td>\n",
       "      <td>307</td>\n",
       "      <td>1538352119000</td>\n",
       "      <td>\"Mozilla/5.0 (Macintosh; Intel Mac OS X 10_9_4...</td>\n",
       "      <td>179</td>\n",
       "    </tr>\n",
       "    <tr>\n",
       "      <th>4</th>\n",
       "      <td>Lily Allen</td>\n",
       "      <td>Logged In</td>\n",
       "      <td>Gianna</td>\n",
       "      <td>F</td>\n",
       "      <td>22</td>\n",
       "      <td>Campos</td>\n",
       "      <td>194.53342</td>\n",
       "      <td>paid</td>\n",
       "      <td>Mobile, AL</td>\n",
       "      <td>PUT</td>\n",
       "      <td>NextSong</td>\n",
       "      <td>1.535931e+12</td>\n",
       "      <td>245</td>\n",
       "      <td>Smile (Radio Edit)</td>\n",
       "      <td>200</td>\n",
       "      <td>1538352124000</td>\n",
       "      <td>Mozilla/5.0 (Windows NT 6.1; WOW64; rv:31.0) G...</td>\n",
       "      <td>246</td>\n",
       "    </tr>\n",
       "  </tbody>\n",
       "</table>\n",
       "</div>"
      ],
      "text/plain": [
       "              artist       auth firstName gender  itemInSession  lastName  \\\n",
       "0      Martin Orford  Logged In    Joseph      M             20   Morales   \n",
       "1  John Brown's Body  Logged In    Sawyer      M             74    Larson   \n",
       "2            Afroman  Logged In  Maverick      M            184  Santiago   \n",
       "3               None  Logged In  Maverick      M            185  Santiago   \n",
       "4         Lily Allen  Logged In    Gianna      F             22    Campos   \n",
       "\n",
       "      length level                              location method      page  \\\n",
       "0  597.55057  free                    Corpus Christi, TX    PUT  NextSong   \n",
       "1  380.21179  free  Houston-The Woodlands-Sugar Land, TX    PUT  NextSong   \n",
       "2  202.37016  paid         Orlando-Kissimmee-Sanford, FL    PUT  NextSong   \n",
       "3        NaN  paid         Orlando-Kissimmee-Sanford, FL    PUT    Logout   \n",
       "4  194.53342  paid                            Mobile, AL    PUT  NextSong   \n",
       "\n",
       "   registration  sessionId                song  status             ts  \\\n",
       "0  1.532064e+12        292       Grand Designs     200  1538352011000   \n",
       "1  1.538070e+12         97               Bulls     200  1538352025000   \n",
       "2  1.535953e+12        178  Because I Got High     200  1538352118000   \n",
       "3  1.535953e+12        178                None     307  1538352119000   \n",
       "4  1.535931e+12        245  Smile (Radio Edit)     200  1538352124000   \n",
       "\n",
       "                                           userAgent userId  \n",
       "0  \"Mozilla/5.0 (Macintosh; Intel Mac OS X 10_9_4...    293  \n",
       "1  \"Mozilla/5.0 (Macintosh; Intel Mac OS X 10_9_4...     98  \n",
       "2  \"Mozilla/5.0 (Macintosh; Intel Mac OS X 10_9_4...    179  \n",
       "3  \"Mozilla/5.0 (Macintosh; Intel Mac OS X 10_9_4...    179  \n",
       "4  Mozilla/5.0 (Windows NT 6.1; WOW64; rv:31.0) G...    246  "
      ]
     },
     "execution_count": 48,
     "metadata": {},
     "output_type": "execute_result"
    }
   ],
   "source": [
    "dfp.head()"
   ]
  },
  {
   "cell_type": "code",
   "execution_count": 44,
   "metadata": {},
   "outputs": [],
   "source": [
    "dfp[\"ts\"] = pd.to_datetime(dfp[\"ts\"])"
   ]
  },
  {
   "cell_type": "code",
   "execution_count": 46,
   "metadata": {
    "scrolled": true
   },
   "outputs": [
    {
     "data": {
      "text/plain": [
       "1970-01-01 00:25:41.007180    4\n",
       "1970-01-01 00:25:39.854162    4\n",
       "1970-01-01 00:25:42.658227    4\n",
       "1970-01-01 00:25:41.586146    4\n",
       "1970-01-01 00:25:43.596150    4\n",
       "                             ..\n",
       "1970-01-01 00:25:38.522133    1\n",
       "1970-01-01 00:25:40.269713    1\n",
       "1970-01-01 00:25:41.311587    1\n",
       "1970-01-01 00:25:39.966336    1\n",
       "1970-01-01 00:25:41.954529    1\n",
       "Name: ts, Length: 513108, dtype: int64"
      ]
     },
     "execution_count": 46,
     "metadata": {},
     "output_type": "execute_result"
    }
   ],
   "source": [
    "dfp['ts'].value_counts()"
   ]
  },
  {
   "cell_type": "code",
   "execution_count": 58,
   "metadata": {},
   "outputs": [],
   "source": [
    "dfp[\"ts1\"] = dfp[\"ts\"].astype('datetime64[ns]')"
   ]
  },
  {
   "cell_type": "code",
   "execution_count": null,
   "metadata": {},
   "outputs": [],
   "source": [
    "dfp['ts2']= dfp[\"ts\"] = dfp[\"ts\"].apply(lambda d : pd.to_datetime(d))"
   ]
  },
  {
   "cell_type": "code",
   "execution_count": null,
   "metadata": {},
   "outputs": [],
   "source": [
    "raw_data['Mycol'] =  pd.to_datetime(raw_data['Mycol'], format='%d%b%Y:%H:%M:%S.%f')"
   ]
  },
  {
   "cell_type": "code",
   "execution_count": 59,
   "metadata": {},
   "outputs": [
    {
     "data": {
      "text/html": [
       "<div>\n",
       "<style scoped>\n",
       "    .dataframe tbody tr th:only-of-type {\n",
       "        vertical-align: middle;\n",
       "    }\n",
       "\n",
       "    .dataframe tbody tr th {\n",
       "        vertical-align: top;\n",
       "    }\n",
       "\n",
       "    .dataframe thead th {\n",
       "        text-align: right;\n",
       "    }\n",
       "</style>\n",
       "<table border=\"1\" class=\"dataframe\">\n",
       "  <thead>\n",
       "    <tr style=\"text-align: right;\">\n",
       "      <th></th>\n",
       "      <th>artist</th>\n",
       "      <th>auth</th>\n",
       "      <th>firstName</th>\n",
       "      <th>gender</th>\n",
       "      <th>itemInSession</th>\n",
       "      <th>lastName</th>\n",
       "      <th>length</th>\n",
       "      <th>level</th>\n",
       "      <th>location</th>\n",
       "      <th>method</th>\n",
       "      <th>page</th>\n",
       "      <th>registration</th>\n",
       "      <th>sessionId</th>\n",
       "      <th>song</th>\n",
       "      <th>status</th>\n",
       "      <th>ts</th>\n",
       "      <th>userAgent</th>\n",
       "      <th>userId</th>\n",
       "      <th>ts1</th>\n",
       "    </tr>\n",
       "  </thead>\n",
       "  <tbody>\n",
       "    <tr>\n",
       "      <th>0</th>\n",
       "      <td>Martin Orford</td>\n",
       "      <td>Logged In</td>\n",
       "      <td>Joseph</td>\n",
       "      <td>M</td>\n",
       "      <td>20</td>\n",
       "      <td>Morales</td>\n",
       "      <td>597.55057</td>\n",
       "      <td>free</td>\n",
       "      <td>Corpus Christi, TX</td>\n",
       "      <td>PUT</td>\n",
       "      <td>NextSong</td>\n",
       "      <td>1.532064e+12</td>\n",
       "      <td>292</td>\n",
       "      <td>Grand Designs</td>\n",
       "      <td>200</td>\n",
       "      <td>1538352011000</td>\n",
       "      <td>\"Mozilla/5.0 (Macintosh; Intel Mac OS X 10_9_4...</td>\n",
       "      <td>293</td>\n",
       "      <td>1970-01-01 00:25:38.352011</td>\n",
       "    </tr>\n",
       "    <tr>\n",
       "      <th>1</th>\n",
       "      <td>John Brown's Body</td>\n",
       "      <td>Logged In</td>\n",
       "      <td>Sawyer</td>\n",
       "      <td>M</td>\n",
       "      <td>74</td>\n",
       "      <td>Larson</td>\n",
       "      <td>380.21179</td>\n",
       "      <td>free</td>\n",
       "      <td>Houston-The Woodlands-Sugar Land, TX</td>\n",
       "      <td>PUT</td>\n",
       "      <td>NextSong</td>\n",
       "      <td>1.538070e+12</td>\n",
       "      <td>97</td>\n",
       "      <td>Bulls</td>\n",
       "      <td>200</td>\n",
       "      <td>1538352025000</td>\n",
       "      <td>\"Mozilla/5.0 (Macintosh; Intel Mac OS X 10_9_4...</td>\n",
       "      <td>98</td>\n",
       "      <td>1970-01-01 00:25:38.352025</td>\n",
       "    </tr>\n",
       "    <tr>\n",
       "      <th>2</th>\n",
       "      <td>Afroman</td>\n",
       "      <td>Logged In</td>\n",
       "      <td>Maverick</td>\n",
       "      <td>M</td>\n",
       "      <td>184</td>\n",
       "      <td>Santiago</td>\n",
       "      <td>202.37016</td>\n",
       "      <td>paid</td>\n",
       "      <td>Orlando-Kissimmee-Sanford, FL</td>\n",
       "      <td>PUT</td>\n",
       "      <td>NextSong</td>\n",
       "      <td>1.535953e+12</td>\n",
       "      <td>178</td>\n",
       "      <td>Because I Got High</td>\n",
       "      <td>200</td>\n",
       "      <td>1538352118000</td>\n",
       "      <td>\"Mozilla/5.0 (Macintosh; Intel Mac OS X 10_9_4...</td>\n",
       "      <td>179</td>\n",
       "      <td>1970-01-01 00:25:38.352118</td>\n",
       "    </tr>\n",
       "    <tr>\n",
       "      <th>3</th>\n",
       "      <td>None</td>\n",
       "      <td>Logged In</td>\n",
       "      <td>Maverick</td>\n",
       "      <td>M</td>\n",
       "      <td>185</td>\n",
       "      <td>Santiago</td>\n",
       "      <td>NaN</td>\n",
       "      <td>paid</td>\n",
       "      <td>Orlando-Kissimmee-Sanford, FL</td>\n",
       "      <td>PUT</td>\n",
       "      <td>Logout</td>\n",
       "      <td>1.535953e+12</td>\n",
       "      <td>178</td>\n",
       "      <td>None</td>\n",
       "      <td>307</td>\n",
       "      <td>1538352119000</td>\n",
       "      <td>\"Mozilla/5.0 (Macintosh; Intel Mac OS X 10_9_4...</td>\n",
       "      <td>179</td>\n",
       "      <td>1970-01-01 00:25:38.352119</td>\n",
       "    </tr>\n",
       "    <tr>\n",
       "      <th>4</th>\n",
       "      <td>Lily Allen</td>\n",
       "      <td>Logged In</td>\n",
       "      <td>Gianna</td>\n",
       "      <td>F</td>\n",
       "      <td>22</td>\n",
       "      <td>Campos</td>\n",
       "      <td>194.53342</td>\n",
       "      <td>paid</td>\n",
       "      <td>Mobile, AL</td>\n",
       "      <td>PUT</td>\n",
       "      <td>NextSong</td>\n",
       "      <td>1.535931e+12</td>\n",
       "      <td>245</td>\n",
       "      <td>Smile (Radio Edit)</td>\n",
       "      <td>200</td>\n",
       "      <td>1538352124000</td>\n",
       "      <td>Mozilla/5.0 (Windows NT 6.1; WOW64; rv:31.0) G...</td>\n",
       "      <td>246</td>\n",
       "      <td>1970-01-01 00:25:38.352124</td>\n",
       "    </tr>\n",
       "  </tbody>\n",
       "</table>\n",
       "</div>"
      ],
      "text/plain": [
       "              artist       auth firstName gender  itemInSession  lastName  \\\n",
       "0      Martin Orford  Logged In    Joseph      M             20   Morales   \n",
       "1  John Brown's Body  Logged In    Sawyer      M             74    Larson   \n",
       "2            Afroman  Logged In  Maverick      M            184  Santiago   \n",
       "3               None  Logged In  Maverick      M            185  Santiago   \n",
       "4         Lily Allen  Logged In    Gianna      F             22    Campos   \n",
       "\n",
       "      length level                              location method      page  \\\n",
       "0  597.55057  free                    Corpus Christi, TX    PUT  NextSong   \n",
       "1  380.21179  free  Houston-The Woodlands-Sugar Land, TX    PUT  NextSong   \n",
       "2  202.37016  paid         Orlando-Kissimmee-Sanford, FL    PUT  NextSong   \n",
       "3        NaN  paid         Orlando-Kissimmee-Sanford, FL    PUT    Logout   \n",
       "4  194.53342  paid                            Mobile, AL    PUT  NextSong   \n",
       "\n",
       "   registration  sessionId                song  status             ts  \\\n",
       "0  1.532064e+12        292       Grand Designs     200  1538352011000   \n",
       "1  1.538070e+12         97               Bulls     200  1538352025000   \n",
       "2  1.535953e+12        178  Because I Got High     200  1538352118000   \n",
       "3  1.535953e+12        178                None     307  1538352119000   \n",
       "4  1.535931e+12        245  Smile (Radio Edit)     200  1538352124000   \n",
       "\n",
       "                                           userAgent userId  \\\n",
       "0  \"Mozilla/5.0 (Macintosh; Intel Mac OS X 10_9_4...    293   \n",
       "1  \"Mozilla/5.0 (Macintosh; Intel Mac OS X 10_9_4...     98   \n",
       "2  \"Mozilla/5.0 (Macintosh; Intel Mac OS X 10_9_4...    179   \n",
       "3  \"Mozilla/5.0 (Macintosh; Intel Mac OS X 10_9_4...    179   \n",
       "4  Mozilla/5.0 (Windows NT 6.1; WOW64; rv:31.0) G...    246   \n",
       "\n",
       "                         ts1  \n",
       "0 1970-01-01 00:25:38.352011  \n",
       "1 1970-01-01 00:25:38.352025  \n",
       "2 1970-01-01 00:25:38.352118  \n",
       "3 1970-01-01 00:25:38.352119  \n",
       "4 1970-01-01 00:25:38.352124  "
      ]
     },
     "execution_count": 59,
     "metadata": {},
     "output_type": "execute_result"
    }
   ],
   "source": [
    "dfp.head()"
   ]
  },
  {
   "cell_type": "code",
   "execution_count": 27,
   "metadata": {
    "scrolled": true
   },
   "outputs": [
    {
     "data": {
      "text/plain": [
       "artist            True\n",
       "auth             False\n",
       "firstName         True\n",
       "gender            True\n",
       "itemInSession    False\n",
       "lastName          True\n",
       "length            True\n",
       "level            False\n",
       "location          True\n",
       "method           False\n",
       "page             False\n",
       "registration      True\n",
       "sessionId        False\n",
       "song              True\n",
       "status           False\n",
       "ts               False\n",
       "userAgent         True\n",
       "userId           False\n",
       "dtype: bool"
      ]
     },
     "execution_count": 27,
     "metadata": {},
     "output_type": "execute_result"
    }
   ],
   "source": [
    "# check for missing values\n",
    "dfp.isnull().any()"
   ]
  },
  {
   "cell_type": "code",
   "execution_count": 28,
   "metadata": {
    "scrolled": true
   },
   "outputs": [
    {
     "name": "stdout",
     "output_type": "stream",
     "text": [
      "The total number of columns with missing values is: 9\n"
     ]
    }
   ],
   "source": [
    "# check the total number of columns with missing values\n",
    "missing_values = dfp.isnull().any().sum()\n",
    "print('The total number of columns with missing values is: {}'.format(missing_values))"
   ]
  },
  {
   "cell_type": "code",
   "execution_count": 29,
   "metadata": {
    "scrolled": false
   },
   "outputs": [
    {
     "data": {
      "text/plain": [
       "Index(['artist', 'firstName', 'gender', 'lastName', 'length', 'location',\n",
       "       'registration', 'song', 'userAgent'],\n",
       "      dtype='object')"
      ]
     },
     "execution_count": 29,
     "metadata": {},
     "output_type": "execute_result"
    }
   ],
   "source": [
    "# get a list with the columns with missing values\n",
    "dfp.columns[dfp.isnull().any()]"
   ]
  },
  {
   "cell_type": "code",
   "execution_count": 30,
   "metadata": {
    "scrolled": true
   },
   "outputs": [
    {
     "data": {
      "text/plain": [
       "artist           110828\n",
       "auth                  0\n",
       "firstName         15700\n",
       "gender            15700\n",
       "itemInSession         0\n",
       "lastName          15700\n",
       "length           110828\n",
       "level                 0\n",
       "location          15700\n",
       "method                0\n",
       "page                  0\n",
       "registration      15700\n",
       "sessionId             0\n",
       "song             110828\n",
       "status                0\n",
       "ts                    0\n",
       "userAgent         15700\n",
       "userId                0\n",
       "dtype: int64"
      ]
     },
     "execution_count": 30,
     "metadata": {},
     "output_type": "execute_result"
    }
   ],
   "source": [
    "# check the number of missing values per column\n",
    "dfp.isnull().sum()"
   ]
  },
  {
   "cell_type": "code",
   "execution_count": 31,
   "metadata": {
    "scrolled": true
   },
   "outputs": [
    {
     "name": "stdout",
     "output_type": "stream",
     "text": [
      "<class 'pandas.core.frame.DataFrame'>\n",
      "RangeIndex: 543705 entries, 0 to 543704\n",
      "Data columns (total 18 columns):\n",
      " #   Column         Non-Null Count   Dtype  \n",
      "---  ------         --------------   -----  \n",
      " 0   artist         432877 non-null  object \n",
      " 1   auth           543705 non-null  object \n",
      " 2   firstName      528005 non-null  object \n",
      " 3   gender         528005 non-null  object \n",
      " 4   itemInSession  543705 non-null  int64  \n",
      " 5   lastName       528005 non-null  object \n",
      " 6   length         432877 non-null  float64\n",
      " 7   level          543705 non-null  object \n",
      " 8   location       528005 non-null  object \n",
      " 9   method         543705 non-null  object \n",
      " 10  page           543705 non-null  object \n",
      " 11  registration   528005 non-null  float64\n",
      " 12  sessionId      543705 non-null  int64  \n",
      " 13  song           432877 non-null  object \n",
      " 14  status         543705 non-null  int64  \n",
      " 15  ts             543705 non-null  int64  \n",
      " 16  userAgent      528005 non-null  object \n",
      " 17  userId         543705 non-null  object \n",
      "dtypes: float64(2), int64(4), object(12)\n",
      "memory usage: 74.7+ MB\n"
     ]
    }
   ],
   "source": [
    "dfp.info()"
   ]
  },
  {
   "cell_type": "code",
   "execution_count": 32,
   "metadata": {
    "scrolled": true
   },
   "outputs": [
    {
     "data": {
      "text/plain": [
       "<AxesSubplot:>"
      ]
     },
     "execution_count": 32,
     "metadata": {},
     "output_type": "execute_result"
    },
    {
     "data": {
      "image/png": "[encoded data removed]",
      "text/plain": [
       "<Figure size 720x432 with 1 Axes>"
      ]
     },
     "metadata": {
      "needs_background": "light"
     },
     "output_type": "display_data"
    }
   ],
   "source": [
    "# check for null values with graph\n",
    "plt.figure(figsize=(10,6))\n",
    "sns.heatmap(dfp.isnull(), cbar=False, yticklabels=False, cmap='viridis')"
   ]
  },
  {
   "cell_type": "code",
   "execution_count": 33,
   "metadata": {},
   "outputs": [
    {
     "data": {
      "text/plain": [
       "artist           0.203838\n",
       "length           0.203838\n",
       "song             0.203838\n",
       "firstName        0.028876\n",
       "gender           0.028876\n",
       "userAgent        0.028876\n",
       "lastName         0.028876\n",
       "location         0.028876\n",
       "registration     0.028876\n",
       "sessionId        0.000000\n",
       "ts               0.000000\n",
       "status           0.000000\n",
       "method           0.000000\n",
       "page             0.000000\n",
       "auth             0.000000\n",
       "level            0.000000\n",
       "itemInSession    0.000000\n",
       "userId           0.000000\n",
       "dtype: float64"
      ]
     },
     "execution_count": 33,
     "metadata": {},
     "output_type": "execute_result"
    }
   ],
   "source": [
    "# check percent of missing values\n",
    "dfp.isnull().sum().sort_values(ascending=False)/543705"
   ]
  },
  {
   "cell_type": "code",
   "execution_count": 34,
   "metadata": {
    "scrolled": false
   },
   "outputs": [
    {
     "name": "stdout",
     "output_type": "stream",
     "text": [
      "Columns that are object with no missing values: auth, level, method, page, userId\n"
     ]
    }
   ],
   "source": [
    "print('Columns that are object with no missing values: auth, level, method, page, userId')"
   ]
  },
  {
   "cell_type": "code",
   "execution_count": 35,
   "metadata": {
    "scrolled": false
   },
   "outputs": [
    {
     "data": {
      "text/plain": [
       "<AxesSubplot:>"
      ]
     },
     "execution_count": 35,
     "metadata": {},
     "output_type": "execute_result"
    },
    {
     "data": {
      "image/png": "[encoded data removed]",
      "text/plain": [
       "<Figure size 720x432 with 2 Axes>"
      ]
     },
     "metadata": {
      "needs_background": "light"
     },
     "output_type": "display_data"
    }
   ],
   "source": [
    "# check correlation\n",
    "plt.figure(figsize=(10,6))\n",
    "sns.heatmap(dfp.corr(),cmap='viridis',annot=False)"
   ]
  },
  {
   "cell_type": "code",
   "execution_count": 36,
   "metadata": {
    "scrolled": false
   },
   "outputs": [
    {
     "data": {
      "text/plain": [
       "Logged In     0.970942\n",
       "Logged Out    0.028703\n",
       "Cancelled     0.000182\n",
       "Guest         0.000173\n",
       "Name: auth, dtype: float64"
      ]
     },
     "execution_count": 36,
     "metadata": {},
     "output_type": "execute_result"
    }
   ],
   "source": [
    "# check auth\n",
    "dfp['auth'].value_counts(normalize=True)"
   ]
  },
  {
   "cell_type": "code",
   "execution_count": 37,
   "metadata": {
    "scrolled": true
   },
   "outputs": [
    {
     "data": {
      "text/plain": [
       "paid    0.78829\n",
       "free    0.21171\n",
       "Name: level, dtype: float64"
      ]
     },
     "execution_count": 37,
     "metadata": {},
     "output_type": "execute_result"
    }
   ],
   "source": [
    "# check level\n",
    "dfp['level'].value_counts(normalize=True)"
   ]
  },
  {
   "cell_type": "code",
   "execution_count": 38,
   "metadata": {},
   "outputs": [
    {
     "data": {
      "text/plain": [
       "PUT    0.910683\n",
       "GET    0.089317\n",
       "Name: method, dtype: float64"
      ]
     },
     "execution_count": 38,
     "metadata": {},
     "output_type": "execute_result"
    }
   ],
   "source": [
    "# check method\n",
    "dfp['method'].value_counts(normalize=True)"
   ]
  },
  {
   "cell_type": "code",
   "execution_count": 135,
   "metadata": {
    "scrolled": false
   },
   "outputs": [
    {
     "data": {
      "text/plain": [
       "NextSong                     80.0\n",
       "Home                          5.0\n",
       "Thumbs Up                     4.0\n",
       "Add to Playlist               2.0\n",
       "Add Friend                    1.0\n",
       "Roll Advert                   1.0\n",
       "Login                         1.0\n",
       "Logout                        1.0\n",
       "Thumbs Down                   1.0\n",
       "Downgrade                     1.0\n",
       "Help                          1.0\n",
       "Settings                      1.0\n",
       "About                         0.0\n",
       "Upgrade                       0.0\n",
       "Save Settings                 0.0\n",
       "Error                         0.0\n",
       "Submit Upgrade                0.0\n",
       "Submit Downgrade              0.0\n",
       "Cancel                        0.0\n",
       "Cancellation Confirmation     0.0\n",
       "Register                      0.0\n",
       "Submit Registration           0.0\n",
       "Name: page, dtype: float64"
      ]
     },
     "execution_count": 135,
     "metadata": {},
     "output_type": "execute_result"
    }
   ],
   "source": [
    "# check page - here we have Confirmation Cancellation Confirmation and Downgrade\n",
    "dfp['page'].value_counts(normalize=True).round(2) * 100"
   ]
  },
  {
   "cell_type": "code",
   "execution_count": 40,
   "metadata": {
    "scrolled": true
   },
   "outputs": [
    {
     "data": {
      "text/plain": [
       "NextSong                     432877\n",
       "Home                          27412\n",
       "Thumbs Up                     23826\n",
       "Add to Playlist               12349\n",
       "Add Friend                     8087\n",
       "Roll Advert                    7773\n",
       "Login                          6011\n",
       "Logout                         5990\n",
       "Thumbs Down                    4911\n",
       "Downgrade                      3811\n",
       "Help                           3150\n",
       "Settings                       2964\n",
       "About                          1855\n",
       "Upgrade                         968\n",
       "Save Settings                   585\n",
       "Error                           519\n",
       "Submit Upgrade                  287\n",
       "Submit Downgrade                117\n",
       "Cancel                           99\n",
       "Cancellation Confirmation        99\n",
       "Register                         11\n",
       "Submit Registration               4\n",
       "Name: page, dtype: int64"
      ]
     },
     "execution_count": 40,
     "metadata": {},
     "output_type": "execute_result"
    }
   ],
   "source": [
    "# check page by the number of records\n",
    "dfp['page'].value_counts()"
   ]
  },
  {
   "cell_type": "code",
   "execution_count": 41,
   "metadata": {
    "scrolled": true
   },
   "outputs": [],
   "source": [
    "# filter only the Cancellation Confirmation\n",
    "churn = dfp[dfp['page'] == 'Cancellation Confirmation']"
   ]
  },
  {
   "cell_type": "code",
   "execution_count": 42,
   "metadata": {
    "scrolled": true
   },
   "outputs": [
    {
     "data": {
      "text/plain": [
       "<AxesSubplot:>"
      ]
     },
     "execution_count": 42,
     "metadata": {},
     "output_type": "execute_result"
    },
    {
     "data": {
      "image/png": "[encoded data removed]",
      "text/plain": [
       "<Figure size 720x432 with 1 Axes>"
      ]
     },
     "metadata": {
      "needs_background": "light"
     },
     "output_type": "display_data"
    }
   ],
   "source": [
    "# check for null values of churn data frame\n",
    "plt.figure(figsize=(10,6))\n",
    "sns.heatmap(churn.isnull(), cbar=False, yticklabels=False, cmap='viridis')"
   ]
  },
  {
   "cell_type": "code",
   "execution_count": 43,
   "metadata": {
    "scrolled": true
   },
   "outputs": [],
   "source": [
    "# remove columns with missing values\n",
    "churn = churn.drop(['artist', 'length', 'song'], axis=1)"
   ]
  },
  {
   "cell_type": "code",
   "execution_count": 132,
   "metadata": {},
   "outputs": [
    {
     "data": {
      "text/plain": [
       "M    55.0\n",
       "F    45.0\n",
       "Name: gender, dtype: float64"
      ]
     },
     "execution_count": 132,
     "metadata": {},
     "output_type": "execute_result"
    }
   ],
   "source": [
    "churn['gender'].value_counts(normalize=True).round(2) * 100"
   ]
  },
  {
   "cell_type": "code",
   "execution_count": 45,
   "metadata": {
    "scrolled": true
   },
   "outputs": [
    {
     "data": {
      "text/plain": [
       "<AxesSubplot:xlabel='gender', ylabel='count'>"
      ]
     },
     "execution_count": 45,
     "metadata": {},
     "output_type": "execute_result"
    },
    {
     "data": {
      "image/png": "[encoded data removed]",
      "text/plain": [
       "<Figure size 432x288 with 1 Axes>"
      ]
     },
     "metadata": {
      "needs_background": "light"
     },
     "output_type": "display_data"
    }
   ],
   "source": [
    "sns.countplot(x=\"gender\", data=churn)"
   ]
  },
  {
   "cell_type": "markdown",
   "metadata": {},
   "source": [
    "Columns artist, length, and song have more than 20% missing values"
   ]
  },
  {
   "cell_type": "code",
   "execution_count": 136,
   "metadata": {
    "scrolled": true
   },
   "outputs": [
    {
     "data": {
      "text/plain": [
       "M    57.0\n",
       "F    43.0\n",
       "Name: gender, dtype: float64"
      ]
     },
     "execution_count": 136,
     "metadata": {},
     "output_type": "execute_result"
    }
   ],
   "source": [
    "dfp['gender'].value_counts(normalize=True).round(2) * 100"
   ]
  },
  {
   "cell_type": "markdown",
   "metadata": {},
   "source": [
    "There is a slide tendency for more Males to Cancel subscriptions"
   ]
  },
  {
   "cell_type": "code",
   "execution_count": 47,
   "metadata": {
    "scrolled": true
   },
   "outputs": [
    {
     "data": {
      "image/png": "[encoded data removed]",
      "text/plain": [
       "<Figure size 720x432 with 1 Axes>"
      ]
     },
     "metadata": {
      "needs_background": "light"
     },
     "output_type": "display_data"
    }
   ],
   "source": [
    "plt.figure(figsize=(10,6))\n",
    "sns.countplot(y=\"page\", data=dfp, order = dfp['page'].value_counts().index)\n",
    "plt.show()"
   ]
  },
  {
   "cell_type": "markdown",
   "metadata": {},
   "source": [
    "### New columns Churn_Cancel and Churn_Downgrade"
   ]
  },
  {
   "cell_type": "code",
   "execution_count": 181,
   "metadata": {},
   "outputs": [],
   "source": [
    "dfp['Churn_cancel'] = dfp['page'].apply(lambda x: 1 if x == \"Cancellation Confirmation\" else 0, IntegerType())"
   ]
  },
  {
   "cell_type": "code",
   "execution_count": 182,
   "metadata": {
    "scrolled": true
   },
   "outputs": [],
   "source": [
    "dfp['Churn_downgrade'] = dfp['page'].apply(lambda x: 1 if x == \"Downgrade\" else 0, IntegerType())"
   ]
  },
  {
   "cell_type": "code",
   "execution_count": 183,
   "metadata": {
    "scrolled": false
   },
   "outputs": [
    {
     "data": {
      "text/html": [
       "<div>\n",
       "<style scoped>\n",
       "    .dataframe tbody tr th:only-of-type {\n",
       "        vertical-align: middle;\n",
       "    }\n",
       "\n",
       "    .dataframe tbody tr th {\n",
       "        vertical-align: top;\n",
       "    }\n",
       "\n",
       "    .dataframe thead th {\n",
       "        text-align: right;\n",
       "    }\n",
       "</style>\n",
       "<table border=\"1\" class=\"dataframe\">\n",
       "  <thead>\n",
       "    <tr style=\"text-align: right;\">\n",
       "      <th></th>\n",
       "      <th>artist</th>\n",
       "      <th>auth</th>\n",
       "      <th>firstName</th>\n",
       "      <th>gender</th>\n",
       "      <th>itemInSession</th>\n",
       "      <th>lastName</th>\n",
       "      <th>length</th>\n",
       "      <th>level</th>\n",
       "      <th>location</th>\n",
       "      <th>method</th>\n",
       "      <th>page</th>\n",
       "      <th>registration</th>\n",
       "      <th>sessionId</th>\n",
       "      <th>song</th>\n",
       "      <th>status</th>\n",
       "      <th>ts</th>\n",
       "      <th>userAgent</th>\n",
       "      <th>userId</th>\n",
       "      <th>Churn_cancel</th>\n",
       "      <th>Churn_downgrade</th>\n",
       "    </tr>\n",
       "  </thead>\n",
       "  <tbody>\n",
       "    <tr>\n",
       "      <th>0</th>\n",
       "      <td>Martin Orford</td>\n",
       "      <td>Logged In</td>\n",
       "      <td>Joseph</td>\n",
       "      <td>M</td>\n",
       "      <td>20</td>\n",
       "      <td>Morales</td>\n",
       "      <td>597.55057</td>\n",
       "      <td>free</td>\n",
       "      <td>Corpus Christi, TX</td>\n",
       "      <td>PUT</td>\n",
       "      <td>NextSong</td>\n",
       "      <td>1.532064e+12</td>\n",
       "      <td>292</td>\n",
       "      <td>Grand Designs</td>\n",
       "      <td>200</td>\n",
       "      <td>1538352011000</td>\n",
       "      <td>\"Mozilla/5.0 (Macintosh; Intel Mac OS X 10_9_4...</td>\n",
       "      <td>293</td>\n",
       "      <td>0</td>\n",
       "      <td>0</td>\n",
       "    </tr>\n",
       "    <tr>\n",
       "      <th>1</th>\n",
       "      <td>John Brown's Body</td>\n",
       "      <td>Logged In</td>\n",
       "      <td>Sawyer</td>\n",
       "      <td>M</td>\n",
       "      <td>74</td>\n",
       "      <td>Larson</td>\n",
       "      <td>380.21179</td>\n",
       "      <td>free</td>\n",
       "      <td>Houston-The Woodlands-Sugar Land, TX</td>\n",
       "      <td>PUT</td>\n",
       "      <td>NextSong</td>\n",
       "      <td>1.538070e+12</td>\n",
       "      <td>97</td>\n",
       "      <td>Bulls</td>\n",
       "      <td>200</td>\n",
       "      <td>1538352025000</td>\n",
       "      <td>\"Mozilla/5.0 (Macintosh; Intel Mac OS X 10_9_4...</td>\n",
       "      <td>98</td>\n",
       "      <td>0</td>\n",
       "      <td>0</td>\n",
       "    </tr>\n",
       "    <tr>\n",
       "      <th>2</th>\n",
       "      <td>Afroman</td>\n",
       "      <td>Logged In</td>\n",
       "      <td>Maverick</td>\n",
       "      <td>M</td>\n",
       "      <td>184</td>\n",
       "      <td>Santiago</td>\n",
       "      <td>202.37016</td>\n",
       "      <td>paid</td>\n",
       "      <td>Orlando-Kissimmee-Sanford, FL</td>\n",
       "      <td>PUT</td>\n",
       "      <td>NextSong</td>\n",
       "      <td>1.535953e+12</td>\n",
       "      <td>178</td>\n",
       "      <td>Because I Got High</td>\n",
       "      <td>200</td>\n",
       "      <td>1538352118000</td>\n",
       "      <td>\"Mozilla/5.0 (Macintosh; Intel Mac OS X 10_9_4...</td>\n",
       "      <td>179</td>\n",
       "      <td>0</td>\n",
       "      <td>0</td>\n",
       "    </tr>\n",
       "    <tr>\n",
       "      <th>3</th>\n",
       "      <td>None</td>\n",
       "      <td>Logged In</td>\n",
       "      <td>Maverick</td>\n",
       "      <td>M</td>\n",
       "      <td>185</td>\n",
       "      <td>Santiago</td>\n",
       "      <td>NaN</td>\n",
       "      <td>paid</td>\n",
       "      <td>Orlando-Kissimmee-Sanford, FL</td>\n",
       "      <td>PUT</td>\n",
       "      <td>Logout</td>\n",
       "      <td>1.535953e+12</td>\n",
       "      <td>178</td>\n",
       "      <td>None</td>\n",
       "      <td>307</td>\n",
       "      <td>1538352119000</td>\n",
       "      <td>\"Mozilla/5.0 (Macintosh; Intel Mac OS X 10_9_4...</td>\n",
       "      <td>179</td>\n",
       "      <td>0</td>\n",
       "      <td>0</td>\n",
       "    </tr>\n",
       "    <tr>\n",
       "      <th>4</th>\n",
       "      <td>Lily Allen</td>\n",
       "      <td>Logged In</td>\n",
       "      <td>Gianna</td>\n",
       "      <td>F</td>\n",
       "      <td>22</td>\n",
       "      <td>Campos</td>\n",
       "      <td>194.53342</td>\n",
       "      <td>paid</td>\n",
       "      <td>Mobile, AL</td>\n",
       "      <td>PUT</td>\n",
       "      <td>NextSong</td>\n",
       "      <td>1.535931e+12</td>\n",
       "      <td>245</td>\n",
       "      <td>Smile (Radio Edit)</td>\n",
       "      <td>200</td>\n",
       "      <td>1538352124000</td>\n",
       "      <td>Mozilla/5.0 (Windows NT 6.1; WOW64; rv:31.0) G...</td>\n",
       "      <td>246</td>\n",
       "      <td>0</td>\n",
       "      <td>0</td>\n",
       "    </tr>\n",
       "  </tbody>\n",
       "</table>\n",
       "</div>"
      ],
      "text/plain": [
       "              artist       auth firstName gender  itemInSession  lastName  \\\n",
       "0      Martin Orford  Logged In    Joseph      M             20   Morales   \n",
       "1  John Brown's Body  Logged In    Sawyer      M             74    Larson   \n",
       "2            Afroman  Logged In  Maverick      M            184  Santiago   \n",
       "3               None  Logged In  Maverick      M            185  Santiago   \n",
       "4         Lily Allen  Logged In    Gianna      F             22    Campos   \n",
       "\n",
       "      length level                              location method      page  \\\n",
       "0  597.55057  free                    Corpus Christi, TX    PUT  NextSong   \n",
       "1  380.21179  free  Houston-The Woodlands-Sugar Land, TX    PUT  NextSong   \n",
       "2  202.37016  paid         Orlando-Kissimmee-Sanford, FL    PUT  NextSong   \n",
       "3        NaN  paid         Orlando-Kissimmee-Sanford, FL    PUT    Logout   \n",
       "4  194.53342  paid                            Mobile, AL    PUT  NextSong   \n",
       "\n",
       "   registration  sessionId                song  status             ts  \\\n",
       "0  1.532064e+12        292       Grand Designs     200  1538352011000   \n",
       "1  1.538070e+12         97               Bulls     200  1538352025000   \n",
       "2  1.535953e+12        178  Because I Got High     200  1538352118000   \n",
       "3  1.535953e+12        178                None     307  1538352119000   \n",
       "4  1.535931e+12        245  Smile (Radio Edit)     200  1538352124000   \n",
       "\n",
       "                                           userAgent userId  Churn_cancel  \\\n",
       "0  \"Mozilla/5.0 (Macintosh; Intel Mac OS X 10_9_4...    293             0   \n",
       "1  \"Mozilla/5.0 (Macintosh; Intel Mac OS X 10_9_4...     98             0   \n",
       "2  \"Mozilla/5.0 (Macintosh; Intel Mac OS X 10_9_4...    179             0   \n",
       "3  \"Mozilla/5.0 (Macintosh; Intel Mac OS X 10_9_4...    179             0   \n",
       "4  Mozilla/5.0 (Windows NT 6.1; WOW64; rv:31.0) G...    246             0   \n",
       "\n",
       "   Churn_downgrade  \n",
       "0                0  \n",
       "1                0  \n",
       "2                0  \n",
       "3                0  \n",
       "4                0  "
      ]
     },
     "execution_count": 183,
     "metadata": {},
     "output_type": "execute_result"
    }
   ],
   "source": [
    "dfp.head(5)"
   ]
  },
  {
   "cell_type": "code",
   "execution_count": 184,
   "metadata": {
    "scrolled": true
   },
   "outputs": [
    {
     "data": {
      "text/plain": [
       "(543705, 20)"
      ]
     },
     "execution_count": 184,
     "metadata": {},
     "output_type": "execute_result"
    }
   ],
   "source": [
    "dfp.shape"
   ]
  },
  {
   "cell_type": "code",
   "execution_count": 185,
   "metadata": {
    "scrolled": true
   },
   "outputs": [
    {
     "data": {
      "text/plain": [
       "userId  song                          \n",
       "10      You're The One                    4\n",
       "        Sehr kosmisch                     3\n",
       "        Hey_ Soul Sister                  2\n",
       "        It Was A Good Day                 2\n",
       "        Marry Me                          2\n",
       "                                         ..\n",
       "99      You've Got The Love               1\n",
       "        Your Decision                     1\n",
       "        Your Protector                    1\n",
       "        our ethos: a legacy to pass on    1\n",
       "        ÃÂ Boi                          1\n",
       "Name: song, Length: 381808, dtype: int64"
      ]
     },
     "execution_count": 185,
     "metadata": {},
     "output_type": "execute_result"
    }
   ],
   "source": [
    "dfp.groupby('userId')['song'].value_counts()"
   ]
  },
  {
   "cell_type": "markdown",
   "metadata": {},
   "source": [
    "### Exploring the churned customers"
   ]
  },
  {
   "cell_type": "code",
   "execution_count": 186,
   "metadata": {},
   "outputs": [
    {
     "data": {
      "text/plain": [
       "0    543606\n",
       "1        99\n",
       "Name: Churn_cancel, dtype: int64"
      ]
     },
     "execution_count": 186,
     "metadata": {},
     "output_type": "execute_result"
    }
   ],
   "source": [
    "dfp['Churn_cancel'].value_counts()"
   ]
  },
  {
   "cell_type": "markdown",
   "metadata": {},
   "source": [
    "#observing how much of a specific action they experienced per a certain time unit or number of songs played.\n",
    "https://pandas.pydata.org/pandas-docs/stable/reference/api/pandas.DataFrame.plot.html"
   ]
  },
  {
   "cell_type": "code",
   "execution_count": 109,
   "metadata": {},
   "outputs": [
    {
     "data": {
      "text/plain": [
       "<AxesSubplot:xlabel='gender'>"
      ]
     },
     "execution_count": 109,
     "metadata": {},
     "output_type": "execute_result"
    },
    {
     "data": {
      "image/png": "[encoded data removed]",
      "text/plain": [
       "<Figure size 432x288 with 1 Axes>"
      ]
     },
     "metadata": {
      "needs_background": "light"
     },
     "output_type": "display_data"
    }
   ],
   "source": [
    "dfp.groupby('gender')[['Churn_cancel', 'Churn_downgrade']].sum().plot(kind='bar', include_bool=True)"
   ]
  },
  {
   "cell_type": "code",
   "execution_count": 126,
   "metadata": {},
   "outputs": [
    {
     "data": {
      "text/plain": [
       "0    543606\n",
       "1        99\n",
       "Name: Churn_cancel, dtype: int64"
      ]
     },
     "execution_count": 126,
     "metadata": {},
     "output_type": "execute_result"
    }
   ],
   "source": [
    "dfp['Churn_cancel'].value_counts()"
   ]
  },
  {
   "cell_type": "code",
   "execution_count": 129,
   "metadata": {
    "scrolled": false
   },
   "outputs": [
    {
     "data": {
      "text/plain": [
       "You're The One                                                         0.512617\n",
       "Undo                                                                   0.447702\n",
       "Revelry                                                                0.372623\n",
       "Sehr kosmisch                                                          0.309788\n",
       "Horn Concerto No. 4 in E flat K495: II. Romance (Andante cantabile)    0.285531\n",
       "                                                                         ...   \n",
       "Tony The Tiger                                                         0.000231\n",
       "Again and Again (Album Version)                                        0.000231\n",
       "Mi Ultimo Beso                                                         0.000231\n",
       "Collaboration (Album Version)                                          0.000231\n",
       "Nunca mucho                                                            0.000231\n",
       "Name: song, Length: 80292, dtype: float64"
      ]
     },
     "execution_count": 129,
     "metadata": {},
     "output_type": "execute_result"
    }
   ],
   "source": [
    "dfp['song'].value_counts(normalize=True) * 100"
   ]
  },
  {
   "cell_type": "code",
   "execution_count": 167,
   "metadata": {
    "scrolled": false
   },
   "outputs": [
    {
     "data": {
      "text/plain": [
       "Churn_cancel  level\n",
       "0             paid     428530\n",
       "              free     115076\n",
       "1             paid         67\n",
       "              free         32\n",
       "Name: level, dtype: int64"
      ]
     },
     "execution_count": 167,
     "metadata": {},
     "output_type": "execute_result"
    }
   ],
   "source": [
    "dfp.groupby('Churn_cancel')['level'].value_counts()"
   ]
  },
  {
   "cell_type": "code",
   "execution_count": 188,
   "metadata": {},
   "outputs": [],
   "source": [
    "df_song = dfp[dfp['Churn_cancel'] == 1]"
   ]
  },
  {
   "cell_type": "code",
   "execution_count": 191,
   "metadata": {
    "scrolled": true
   },
   "outputs": [
    {
     "data": {
      "text/plain": [
       "artist             99\n",
       "auth                0\n",
       "firstName           0\n",
       "gender              0\n",
       "itemInSession       0\n",
       "lastName            0\n",
       "length             99\n",
       "level               0\n",
       "location            0\n",
       "method              0\n",
       "page                0\n",
       "registration        0\n",
       "sessionId           0\n",
       "song               99\n",
       "status              0\n",
       "ts                  0\n",
       "userAgent           0\n",
       "userId              0\n",
       "Churn_cancel        0\n",
       "Churn_downgrade     0\n",
       "dtype: int64"
      ]
     },
     "execution_count": 191,
     "metadata": {},
     "output_type": "execute_result"
    }
   ],
   "source": [
    "df_song.isnull().sum()"
   ]
  },
  {
   "cell_type": "code",
   "execution_count": 196,
   "metadata": {},
   "outputs": [
    {
     "data": {
      "text/plain": [
       "Churn_cancel  sessionId\n",
       "0             1052         1006\n",
       "              2860          926\n",
       "              3425          899\n",
       "              4131          885\n",
       "              477           837\n",
       "                           ... \n",
       "1             4253            1\n",
       "              4473            1\n",
       "              4671            1\n",
       "              4723            1\n",
       "              4766            1\n",
       "Name: sessionId, Length: 4687, dtype: int64"
      ]
     },
     "execution_count": 196,
     "metadata": {},
     "output_type": "execute_result"
    }
   ],
   "source": [
    "dfp.groupby('Churn_cancel')['sessionId'].value_counts()"
   ]
  },
  {
   "cell_type": "code",
   "execution_count": 2,
   "metadata": {},
   "outputs": [
    {
     "ename": "NameError",
     "evalue": "name 'df' is not defined",
     "output_type": "error",
     "traceback": [
      "\u001b[0;31m---------------------------------------------------------------------------\u001b[0m",
      "\u001b[0;31mNameError\u001b[0m                                 Traceback (most recent call last)",
      "\u001b[0;32m<ipython-input-2-00cf07b74dcd>\u001b[0m in \u001b[0;36m<module>\u001b[0;34m\u001b[0m\n\u001b[0;32m----> 1\u001b[0;31m \u001b[0mdf\u001b[0m\u001b[0;34m\u001b[0m\u001b[0;34m\u001b[0m\u001b[0m\n\u001b[0m",
      "\u001b[0;31mNameError\u001b[0m: name 'df' is not defined"
     ]
    }
   ],
   "source": [
    "pd.to_datetime(df['timestamp'], unit='s')"
   ]
  },
  {
   "cell_type": "code",
   "execution_count": null,
   "metadata": {},
   "outputs": [],
   "source": [
    "# explore the data set as per instructions\n",
    "# check the datacamp documentation for summary statistics"
   ]
  },
  {
   "cell_type": "markdown",
   "metadata": {},
   "source": [
    "# Feature Engineering\n",
    "Once you've familiarized yourself with the data, build out the features you find promising to train your model on. To work with the full dataset, you can follow the following steps.\n",
    "- Write a script to extract the necessary features from the smaller subset of data\n",
    "- Ensure that your script is scalable, using the best practices discussed in Lesson 3\n",
    "- Try your script on the full data set, debugging your script if necessary\n",
    "\n",
    "If you are working in the classroom workspace, you can just extract features based on the small subset of data contained here. Be sure to transfer over this work to the larger dataset when you work on your Spark cluster."
   ]
  },
  {
   "cell_type": "code",
   "execution_count": null,
   "metadata": {},
   "outputs": [],
   "source": []
  },
  {
   "cell_type": "markdown",
   "metadata": {},
   "source": [
    "# Modeling\n",
    "Split the full dataset into train, test, and validation sets. Test out several of the machine learning methods you learned. Evaluate the accuracy of the various models, tuning parameters as necessary. Determine your winning model based on test accuracy and report results on the validation set. Since the churned users are a fairly small subset, I suggest using F1 score as the metric to optimize."
   ]
  },
  {
   "cell_type": "code",
   "execution_count": null,
   "metadata": {},
   "outputs": [],
   "source": []
  },
  {
   "cell_type": "markdown",
   "metadata": {},
   "source": [
    "# Final Steps\n",
    "Clean up your code, adding comments and renaming variables to make the code easier to read and maintain. Refer to the Spark Project Overview page and Data Scientist Capstone Project Rubric to make sure you are including all components of the capstone project and meet all expectations. Remember, this includes thorough documentation in a README file in a Github repository, as well as a web app or blog post."
   ]
  },
  {
   "cell_type": "code",
   "execution_count": null,
   "metadata": {},
   "outputs": [],
   "source": []
  }
 ],
 "metadata": {
  "kernelspec": {
   "display_name": "Python 3",
   "language": "python",
   "name": "python3"
  },
  "language_info": {
   "codemirror_mode": {
    "name": "ipython",
    "version": 3
   },
   "file_extension": ".py",
   "mimetype": "text/x-python",
   "name": "python",
   "nbconvert_exporter": "python",
   "pygments_lexer": "ipython3",
   "version": "3.7.9"
  }
 },
 "nbformat": 4,
 "nbformat_minor": 2
}
